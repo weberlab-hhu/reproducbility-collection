{
 "cells": [
  {
   "cell_type": "markdown",
   "id": "32fb90e4",
   "metadata": {},
   "source": [
    "This is a markdown cell, you can use it to document what you're doing and why\n",
    "\n",
    "# Project name\n",
    "\n",
    "This is some background on the project in markdown\n",
    "\n",
    "This might also be background on preprocessing steps.\n",
    "\n",
    ">e.g. before running this script, \n",
    "> you will need to run `gunzip file.txt.gz`\n",
    "\n",
    "larger code blocks work too\n",
    "```\n",
    "# e.g. \n",
    "ls\n",
    "cd some_directory\n",
    "bash_command --parameter\n",
    "```\n",
    "\n",
    "also, just FYI, jupyter markdown supports LaTeX math,\n",
    "\n",
    "> e.g. \n",
    ">the next code block implements the following function \n",
    "> $\\sum_{i=1}^{n}{i^3}$"
   ]
  },
  {
   "cell_type": "markdown",
   "id": "5c030e85",
   "metadata": {},
   "source": [
    "**To format markdown, or to run a code bock, hit \\<Shift\\> + \\<Enter\\>**"
   ]
  },
  {
   "cell_type": "markdown",
   "id": "1ec9c6f6",
   "metadata": {},
   "source": [
    "### What you see is what you get"
   ]
  },
  {
   "cell_type": "code",
   "execution_count": 39,
   "id": "e5c4cdb6",
   "metadata": {},
   "outputs": [],
   "source": [
    "# This is a code cell, you can use it to write & run code\n",
    "# for instance import statements\n",
    "import matplotlib.pyplot as plt\n",
    "import numpy as np\n",
    "%matplotlib inline"
   ]
  },
  {
   "cell_type": "code",
   "execution_count": 40,
   "id": "0309a10d",
   "metadata": {},
   "outputs": [
    {
     "data": {
      "text/plain": [
       "5"
      ]
     },
     "execution_count": 40,
     "metadata": {},
     "output_type": "execute_result"
    }
   ],
   "source": [
    "# when you have code blocks you see the output immediately\n",
    "# such as\n",
    "x = 5\n",
    "x"
   ]
  },
  {
   "cell_type": "code",
   "execution_count": 50,
   "id": "bfb9e610",
   "metadata": {},
   "outputs": [
    {
     "data": {
      "text/plain": [
       "[<matplotlib.lines.Line2D at 0x7fa781455090>]"
      ]
     },
     "execution_count": 50,
     "metadata": {},
     "output_type": "execute_result"
    },
    {
     "data": {
      "image/png": "[encoded data removed]",
      "text/plain": [
       "<Figure size 432x288 with 1 Axes>"
      ]
     },
     "metadata": {
      "needs_background": "light"
     },
     "output_type": "display_data"
    }
   ],
   "source": [
    "# you also see the output of plots\n",
    "dat = np.arange(100) / 50 * np.pi\n",
    "plt.plot(np.sin(dat))"
   ]
  },
  {
   "cell_type": "markdown",
   "id": "99b0c9e4",
   "metadata": {},
   "source": [
    "### Order of execution \n",
    "code blocks can be ran in any order\n",
    "best practice and for your own sanity, I highly\n",
    "encourage you (once you're done testing/playing around)\n",
    "to make sure you save them in a state where they should be\n",
    "ran top to bottom. \n",
    "but first, play around by running the two code blocks below\n",
    "a couple times in different orders. Also go back\n",
    "and run the block with `x = 5` if you like. "
   ]
  },
  {
   "cell_type": "code",
   "execution_count": null,
   "id": "eace61a8",
   "metadata": {},
   "outputs": [],
   "source": [
    "x"
   ]
  },
  {
   "cell_type": "code",
   "execution_count": null,
   "id": "1ba25c55",
   "metadata": {},
   "outputs": [],
   "source": [
    "x += 1"
   ]
  },
  {
   "cell_type": "markdown",
   "id": "935785a0",
   "metadata": {},
   "source": [
    "### Flexibility and combing technologies\n",
    "Use this with care!\n",
    "\n",
    "Generally don't combine:\n",
    " - things with severely different run times\n",
    " - things that have drastically different dependencies\n",
    "   - i.e. my notebook should not call specific & hard to install\n",
    "     bioinformatics software if that can be avoided, when the primary purpose of the notebook is making a quick plot. _Documenting_ how you would call it & what version of said software was used with markdown, is, however, a very good idea.\n",
    "\n",
    "Generally do combine:\n",
    " - things that will help reproducibility\n",
    "   - things that need to be re-run everytime the notebook is rerun\n",
    " - things that are quick & definitely also available\n",
    " - things that will help with understanding\n",
    " - things you want to interactively run for current convenience\n",
    "   and will delete again later\n",
    "   - e.g. `!pip install matplotlib`"
   ]
  },
  {
   "cell_type": "code",
   "execution_count": 43,
   "id": "e6e7c8ba",
   "metadata": {},
   "outputs": [
    {
     "name": "stdout",
     "output_type": "stream",
     "text": [
      "demo.py  jupyter_demo.ipynb  jupyter_intro.md  __pycache__  venv\r\n"
     ]
    }
   ],
   "source": [
    "# the directory contained the following\n",
    "# at this point\n",
    "!ls"
   ]
  },
  {
   "cell_type": "code",
   "execution_count": 53,
   "id": "ca4817f0",
   "metadata": {},
   "outputs": [
    {
     "name": "stdout",
     "output_type": "stream",
     "text": [
      "# jupyter\r\n",
      "Mixing markdown, code, and code results\r\n",
      "\r\n",
      "## \r\n"
     ]
    }
   ],
   "source": [
    "# the data looked like this\n",
    "!head jupyter_intro.md"
   ]
  },
  {
   "cell_type": "markdown",
   "id": "e1b7d4a7",
   "metadata": {},
   "source": [
    "### Importing code that changes\n",
    "When you import numpy, it is probably not a problem\n",
    "to restart the kernel every time you something changes in numpy,\n",
    "that won't be happening very often...\n",
    "\n",
    "The same is not true for your own code that you want to import\n",
    "(beit a simple script in the same directory or a full blown \n",
    "package your developing.\n",
    "\n",
    "Thus it can be a little unintuitive the first time in jupyter,\n",
    "that if you're importing your own code, it doesn't seem to change.\n",
    "\n",
    "For instance, lets say we want to acces code that implements\n",
    "$\\sum_{i=1}^{n}{i^3}$ from our jupyter notebook. With a text editor open a file in the _this directory_ and call it 'demo.py'. Enter the following contents and save it.\n",
    "\n",
    "```\n",
    "# sum the number up to and including n\n",
    "def sum_of_cubes(n):\n",
    "    out = 0\n",
    "    for i in range(n):\n",
    "        out += i**3\n",
    "    return out\n",
    "```"
   ]
  },
  {
   "cell_type": "code",
   "execution_count": 54,
   "id": "97b138ba",
   "metadata": {},
   "outputs": [],
   "source": [
    "# now you can import it\n",
    "import demo"
   ]
  },
  {
   "cell_type": "code",
   "execution_count": 58,
   "id": "9fe1c297",
   "metadata": {},
   "outputs": [
    {
     "data": {
      "text/plain": [
       "9"
      ]
     },
     "execution_count": 58,
     "metadata": {},
     "output_type": "execute_result"
    }
   ],
   "source": [
    "# but the code itself was wrong...\n",
    "# here we expected\n",
    "# 1 + 8 + 27 = 36\n",
    "# but we got 9\n",
    "demo.sum_of_cubes(3)"
   ]
  },
  {
   "cell_type": "markdown",
   "id": "f41d4c00",
   "metadata": {},
   "source": [
    "Go back to the file demo.py, and fix the error.\n",
    "The line \n",
    "```\n",
    "    for i in range(n):\n",
    "```\n",
    "should become\n",
    "```\n",
    "    for i in range(n + 1):\n",
    "```\n",
    "so that it _includes_ $n$\n",
    "\n",
    "Save the file."
   ]
  },
  {
   "cell_type": "code",
   "execution_count": 59,
   "id": "f86ffcc7",
   "metadata": {},
   "outputs": [],
   "source": [
    "import demo"
   ]
  },
  {
   "cell_type": "code",
   "execution_count": 60,
   "id": "786345f9",
   "metadata": {},
   "outputs": [
    {
     "data": {
      "text/plain": [
       "9"
      ]
     },
     "execution_count": 60,
     "metadata": {},
     "output_type": "execute_result"
    }
   ],
   "source": [
    "# still wrong :-(\n",
    "demo.sum_of_cubes(3)"
   ]
  },
  {
   "cell_type": "markdown",
   "id": "3b578c21",
   "metadata": {},
   "source": [
    "This is because if you have an import statement\n",
    "twice in python (scipt or interactive), it doesn't actually \n",
    "import it twice, the second time it just goes \"already there, we're good to go\".\n",
    "\n",
    "In interactive work with jupyter, we sometimes have to force it to actually re-import"
   ]
  },
  {
   "cell_type": "code",
   "execution_count": 62,
   "id": "b2441e22",
   "metadata": {},
   "outputs": [
    {
     "data": {
      "text/plain": [
       "<module 'demo' from '/home/ali/repos/github/weberlab-hhu/version-control-intro/jupyter_intro/demo.py'>"
      ]
     },
     "execution_count": 62,
     "metadata": {},
     "output_type": "execute_result"
    }
   ],
   "source": [
    "# re-import 'demo' with the help of 'importlib'\n",
    "import importlib\n",
    "importlib.reload(demo)"
   ]
  },
  {
   "cell_type": "code",
   "execution_count": 64,
   "id": "44a6e44d",
   "metadata": {},
   "outputs": [
    {
     "data": {
      "text/plain": [
       "36"
      ]
     },
     "execution_count": 64,
     "metadata": {},
     "output_type": "execute_result"
    }
   ],
   "source": [
    "# now it works!\n",
    "demo.sum_of_cubes(3)"
   ]
  },
  {
   "cell_type": "markdown",
   "id": "7b0a5c95",
   "metadata": {},
   "source": [
    "## conclusion\n",
    "\n",
    "### strengths\n",
    "jupyter (and other markdown / code mixes) are great for\n",
    "everything from interactive development, to docummenting\n",
    "and sharing analyses. \n",
    "\n",
    "### export\n",
    "You can export to a whole variety of formats (e.g. html or pdf)\n",
    "to share precisely documented analyses with collaborators,\n",
    "colleagues and supervisors (or just to help out your future self).\n",
    "\n",
    "### version control\n",
    "The .ipynb files (and of course also Rmarkdown files), are\n",
    "text based, they work well with version control!\n",
    "\n",
    "### more\n",
    "\n",
    "#### File variants\n",
    "The cell/code block structuring of ipynb and Rmarkdown files,\n",
    "and ability to tag given cells can\n",
    "allow them to be manipulated (filtered, concatenated, ++) in\n",
    "ways that don't work nearly as well for a classic script.\n",
    "\n",
    "e.g. you can have one source file from which both a 'student'\n",
    "version with incomplete assignments\n",
    "and 'tutor' version with answers to be used as a reference while grading,\n",
    "can be autogenerated. \n",
    "\n",
    "More generally, if you have a case where you'd like to programatically manipulate\n",
    "the code itself for whatever reason, code & md options can be quite useful.\n",
    "\n",
    "#### Sharing online\n",
    "From jupyter hub, to shiny apps, to colab; notebooks & co. can often\n",
    "be a cool way to share an analyses, and share it in a way a\n",
    "user can just 'play around' or otherwise briefly tweak an analysis. \n",
    "Know it's out there, and look it up when you need it.\n",
    "\n",
    "\n",
    "### heads up\n",
    "\n",
    "#### Right tool for the job?\n",
    "\n",
    "Do you want...\n",
    "\n",
    "- interactivity / to just try stuff out\n",
    "- a mix of documentation / explanation code and results\n",
    "- to (in moderation) mix languages\n",
    "\n",
    "==> try jupyter notebooks!\n",
    "\n",
    "- an integrated pipeline combining long steps and many different tools\n",
    "\n",
    "==> maybe stick to `bash` or try a work flow language\n",
    "\n",
    "- develop a python package for others to use\n",
    "\n",
    "==> stick to python scripts\n",
    "\n",
    "### Notebooks are only as good as how you use them\n",
    "\n",
    "Try and use single analysis or project targeted notebooks,\n",
    "one notebook per plot will leave you with too many notebooks\n",
    "and confusion on what to run when. One notebook for an extended\n",
    "thesis, will probably be too much at once and quite confusing /\n",
    "hard to know where to start. \n",
    "\n",
    "Perhaps most importantly, **make sure the notebook _runs_ when you\n",
    "hand over the project, or put the project on the shelf** for a while \n",
    "(basically handing over to future you)."
   ]
  },
  {
   "cell_type": "markdown",
   "id": "758deb9d",
   "metadata": {},
   "source": [
    "Give it a try, found out, and have some fun! :-)"
   ]
  }
 ],
 "metadata": {
  "kernelspec": {
   "display_name": "Python 3 (ipykernel)",
   "language": "python",
   "name": "python3"
  },
  "language_info": {
   "codemirror_mode": {
    "name": "ipython",
    "version": 3
   },
   "file_extension": ".py",
   "mimetype": "text/x-python",
   "name": "python",
   "nbconvert_exporter": "python",
   "pygments_lexer": "ipython3",
   "version": "3.10.4"
  }
 },
 "nbformat": 4,
 "nbformat_minor": 5
}
